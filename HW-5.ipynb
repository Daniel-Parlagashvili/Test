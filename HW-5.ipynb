{
 "cells": [
  {
   "cell_type": "markdown",
   "metadata": {},
   "source": [
    "Преподаватель: Константин Башевой\n",
    "- Домашнее задание по лекции находится во вкладке Материалы к лекции Работа с файловой системой и модули, в конце файла с кодом (задача на доработку темы занятия).\n",
    "\n",
    "Готовое решение необходимо прикрепить в эту вкладку.**\n",
    "\n",
    "Домашнее задание\n",
    "\n",
    "1. Переведите содержимое файла purchase_log.txt в словарь purchases вида: {‘1840e0b9d4’: ‘Продукты’, …}\n"
   ]
  },
  {
   "cell_type": "code",
   "execution_count": 1,
   "metadata": {},
   "outputs": [],
   "source": [
    "import json"
   ]
  },
  {
   "cell_type": "code",
   "execution_count": 2,
   "metadata": {},
   "outputs": [],
   "source": [
    "somi = open('/Users/eli/Music/HW-Net/Downloads/purchase_log.txt','r')\n",
    "somi.readline()\n",
    "som = somi.readlines()\n",
    "#Мой компьютер начинает тормозить когда я в оперативную память закидываю purchase_log.txt"
   ]
  },
  {
   "cell_type": "code",
   "execution_count": 3,
   "metadata": {},
   "outputs": [],
   "source": [
    "purchases = {}\n",
    "for i,line in enumerate(som):\n",
    "    \n",
    "    dict_1 = json.loads(line.strip())\n",
    "#     print(dict_1,type(dict_1))\n",
    "    purchases[dict_1['user_id']] = dict_1['category']\n",
    "#     if i == 3:\n",
    "#         break\n",
    "# purchases"
   ]
  },
  {
   "cell_type": "markdown",
   "metadata": {},
   "source": [
    "2. Для каждого user_id в файле visit_log.csv определите третий столбец с категорией покупки (если покупка была, сам файл visit_log.csv изменять не надо). Запишите в файл funnel.csv визиты из файла visit_log.csv, в которых были покупки с указанием категории."
   ]
  },
  {
   "cell_type": "markdown",
   "metadata": {},
   "source": [
    "Учтите условия на данные:\n",
    "- содержимое purchase_log.txt помещается в оперативную память компьютера\n",
    "- содержимое visit_log.csv - нет; используйте только построчную обработку этого файла"
   ]
  },
  {
   "cell_type": "code",
   "execution_count": 50,
   "metadata": {},
   "outputs": [],
   "source": [
    "with open('/Users/eli/Music/HW-Net/Downloads/visit_log.csv','r') as f2:\n",
    "    with open('/Users/eli/Music/HW-Net/Test/funnel.csv', 'w') as f_write:\n",
    "        f2.readline()\n",
    "        for i,u in enumerate(f2):\n",
    "            lo = u.strip().split(',') # получили список\n",
    "            \n",
    "            if lo[0] in purchases:\n",
    "                    xp = lo[0],lo[1],purchases[lo[0]]\n",
    "                    dots = ','\n",
    "                    xpp = dots.join(xp)+'\\n'\n",
    "                    \n",
    "                    f_write.write(xpp)\n",
    "\n",
    "#             if i == 100:\n",
    "#                 break"
   ]
  },
  {
   "cell_type": "code",
   "execution_count": null,
   "metadata": {},
   "outputs": [],
   "source": []
  },
  {
   "cell_type": "code",
   "execution_count": null,
   "metadata": {},
   "outputs": [],
   "source": []
  },
  {
   "cell_type": "code",
   "execution_count": null,
   "metadata": {},
   "outputs": [],
   "source": []
  },
  {
   "cell_type": "code",
   "execution_count": null,
   "metadata": {},
   "outputs": [],
   "source": []
  },
  {
   "cell_type": "code",
   "execution_count": null,
   "metadata": {},
   "outputs": [],
   "source": []
  },
  {
   "cell_type": "code",
   "execution_count": null,
   "metadata": {},
   "outputs": [],
   "source": []
  },
  {
   "cell_type": "code",
   "execution_count": null,
   "metadata": {},
   "outputs": [],
   "source": []
  },
  {
   "cell_type": "code",
   "execution_count": null,
   "metadata": {},
   "outputs": [],
   "source": []
  },
  {
   "cell_type": "code",
   "execution_count": null,
   "metadata": {},
   "outputs": [],
   "source": []
  },
  {
   "cell_type": "code",
   "execution_count": null,
   "metadata": {},
   "outputs": [],
   "source": []
  },
  {
   "cell_type": "markdown",
   "metadata": {},
   "source": [
    "##  Ниже можно не читать\n",
    "with open('/Users/eli/Music/HW-Net/Downloads/purchase_log.txt','r') as f:\n",
    "    f.readline()\n",
    "    purchases = {}\n",
    "    for i,line in enumerate(f):\n",
    "        dict_1 = json.loads(line.strip())\n",
    "        purchases[dict_1['user_id']] = dict_1['category']"
   ]
  },
  {
   "cell_type": "code",
   "execution_count": 48,
   "metadata": {},
   "outputs": [
    {
     "name": "stdout",
     "output_type": "stream",
     "text": [
      "('1840e0b9d4', 'other', 'Продукты')\n"
     ]
    }
   ],
   "source": [
    "with open('/Users/eli/Music/HW-Net/Downloads/visit_log.csv','r') as f2:\n",
    "    f2.readline()\n",
    "    for i,u in enumerate(f2):\n",
    "        lo = ((u.strip()).split(',')) # получили список\n",
    "        \n",
    "        for key,val in purchases.items():\n",
    "            if lo[0] in key:\n",
    "                xp = (lo[0],lo[1],val)\n",
    "                print(xp)\n",
    "        if i == 30:\n",
    "            break\n",
    "        "
   ]
  },
  {
   "cell_type": "code",
   "execution_count": 18,
   "metadata": {},
   "outputs": [],
   "source": [
    "a = {\n",
    "'6450655ae8' : 'other',\n",
    "'b4ea53e670' : 'other',\n",
    "'0e37347152' : 'other',\n",
    "'96064ae9e0' : 'other',\n",
    "'e1bd168161' : 'context',\n",
    "'71bcf169b4' : 'other',\n",
    "'e0aee73c5d' : 'other',\n",
    "'1f8845e157' : 'context',\n",
    "'78d22c5c78' : 'other',\n",
    "'dd85040770' : 'other',\n",
    "'2301051b25' : 'other',\n",
    "'86835b81ac' : 'context',\n",
    "'90d9a575a2' : 'other',\n",
    "'1b75c4f23f' : 'other'\n",
    "}\n"
   ]
  },
  {
   "cell_type": "code",
   "execution_count": 19,
   "metadata": {},
   "outputs": [],
   "source": [
    "b = {\n",
    "'1de31be403' : 'Бытовая техника',\n",
    "'bbec49524b' : 'Продукты',\n",
    "'0e37347152' : 'Электроника',\n",
    "'96064ae9e0' : 'Продукты',\n",
    "'6aff7a1677' : 'Бытовая техника',\n",
    "'71bcf169b4' : 'Досуг',\n",
    "'e0aee73c5d' : 'Бытовая техника',\n",
    "'1f8845e157' : 'Досуг',\n",
    "'78d22c5c78' : 'Электроника',\n",
    "'dd0e912251' : 'Бытовая техника',\n",
    "'e9eaffa80a' : 'Досуг',\n",
    "'86835b81ac' : 'Продукты',\n",
    "'90d9a575a2' : 'Электроника',\n",
    "'c0cc01a6a4' : 'Бытовая техника'\n",
    "}\n"
   ]
  },
  {
   "cell_type": "code",
   "execution_count": 23,
   "metadata": {},
   "outputs": [
    {
     "name": "stdout",
     "output_type": "stream",
     "text": [
      "['90d9a575a2', 'other', 'Электроника']\n",
      "['90d9a575a2', 'other', 'Электроника']\n",
      "['0e37347152', 'other', 'Электроника']\n",
      "['96064ae9e0', 'other', 'Продукты']\n",
      "['96064ae9e0', 'other', 'Продукты']\n",
      "['71bcf169b4', 'other', 'Досуг']\n",
      "['e0aee73c5d', 'other', 'Бытовая техника']\n",
      "['1f8845e157', 'context', 'Досуг']\n",
      "['78d22c5c78', 'other', 'Электроника']\n",
      "['78d22c5c78', 'other', 'Электроника']\n",
      "['78d22c5c78', 'other', 'Электроника']\n",
      "['86835b81ac', 'context', 'Продукты']\n",
      "['90d9a575a2', 'other', 'Электроника']\n",
      "['90d9a575a2', 'other', 'Электроника']\n"
     ]
    }
   ],
   "source": [
    "for c,d in a.items():\n",
    "    for e,f in b.items():\n",
    "        if c in e:\n",
    "            x = [e,d,f]\n",
    "    print(x)"
   ]
  },
  {
   "cell_type": "code",
   "execution_count": 43,
   "metadata": {},
   "outputs": [
    {
     "data": {
      "text/plain": [
       "'1..2'"
      ]
     },
     "execution_count": 43,
     "metadata": {},
     "output_type": "execute_result"
    }
   ],
   "source": [
    "# Метод join подразумевает использование и значения между ними dots - точки\n",
    "dots = '..'\n",
    "my_str = dots.join(['1', '2'])\n",
    "my_str"
   ]
  },
  {
   "cell_type": "code",
   "execution_count": 225,
   "metadata": {},
   "outputs": [],
   "source": [
    "a = {'q':12,'w':13}"
   ]
  },
  {
   "cell_type": "code",
   "execution_count": 227,
   "metadata": {},
   "outputs": [
    {
     "data": {
      "text/plain": [
       "{'q': 12, 'w': 13, 12: 13}"
      ]
     },
     "execution_count": 227,
     "metadata": {},
     "output_type": "execute_result"
    }
   ],
   "source": [
    "a[a['q']] = a['w']\n",
    "a"
   ]
  }
 ],
 "metadata": {
  "kernelspec": {
   "display_name": "Python 3",
   "language": "python",
   "name": "python3"
  },
  "language_info": {
   "codemirror_mode": {
    "name": "ipython",
    "version": 3
   },
   "file_extension": ".py",
   "mimetype": "text/x-python",
   "name": "python",
   "nbconvert_exporter": "python",
   "pygments_lexer": "ipython3",
   "version": "3.8.3"
  }
 },
 "nbformat": 4,
 "nbformat_minor": 4
}

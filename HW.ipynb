{
 "cells": [
  {
   "cell_type": "markdown",
   "metadata": {},
   "source": [
    "# Задача 1"
   ]
  },
  {
   "cell_type": "markdown",
   "metadata": {},
   "source": [
    "Даны 2 переменных, в которых хранятся строки произвольной длины: phrase_1 и phrase_2.\n",
    "Напишите код, который проверяет какая из этих строк длиннее."
   ]
  },
  {
   "cell_type": "markdown",
   "metadata": {},
   "source": [
    "<div>phrase_1 = 'Насколько проще было бы писать программы, если бы не заказчики'<div>\n",
    "<div>phrase_2 = '640Кб должно хватить для любых задач. Билл Гейтс (по легенде)'<div>"
   ]
  },
  {
   "cell_type": "code",
   "execution_count": 19,
   "metadata": {},
   "outputs": [
    {
     "name": "stdout",
     "output_type": "stream",
     "text": [
      "Фраза 1 больше фразы 2\n"
     ]
    }
   ],
   "source": [
    "phrase_1 = len ('Насколько было бы проще писать программы, если бы не заказчики')\n",
    "phrase_2 = len ('640Кб должно хватить для любых задач. Билл Гейтс (по легенде)')\n",
    "if phrase_1>phrase_2:\n",
    "    print ('Фраза 1 больше фразы 2')\n",
    "elif phrase_1==phrase_2:\n",
    "    print ('Фразы равной длины')\n",
    "else:\n",
    "    print ('Фраза 2 больше фразы 1')"
   ]
  },
  {
   "cell_type": "code",
   "execution_count": 20,
   "metadata": {},
   "outputs": [
    {
     "name": "stdout",
     "output_type": "stream",
     "text": [
      "Фразы равной длины\n"
     ]
    }
   ],
   "source": [
    "phrase_1 = len ('Насколько было бы проще писать программы, если бы не заказчики')\n",
    "phrase_2 = len ('Насколько было бы проще писать программы, если бы не заказчики')\n",
    "if phrase_1>phrase_2:\n",
    "    print ('Фраза 1 больше фразы 2')\n",
    "elif phrase_1==phrase_2:\n",
    "    print ('Фразы равной длины')\n",
    "else:\n",
    "    print ('Фраза 2 больше фразы 1')"
   ]
  },
  {
   "cell_type": "code",
   "execution_count": 21,
   "metadata": {},
   "outputs": [
    {
     "name": "stdout",
     "output_type": "stream",
     "text": [
      "Фраза 2 больше фразы 1\n"
     ]
    }
   ],
   "source": [
    "phrase_1 = len ('640Кб должно хватить для любых задач. Билл Гейтс (по легенде)')\n",
    "phrase_2 = len ('Насколько было бы проще писать программы, если бы не заказчики')\n",
    "if phrase_1>phrase_2:\n",
    "    print ('Фраза 1 больше фразы 2')\n",
    "elif phrase_1==phrase_2:\n",
    "    print ('Фразы равной длины')\n",
    "else:\n",
    "    print ('Фраза 2 больше фразы 1')"
   ]
  },
  {
   "cell_type": "markdown",
   "metadata": {},
   "source": [
    "# Задача 2"
   ]
  },
  {
   "cell_type": "markdown",
   "metadata": {},
   "source": [
    "Дана переменная, в которой хранится четырехзначное число (год). Необходимо написать программу, которая выведет, является ли данный год високосным или обычным."
   ]
  },
  {
   "cell_type": "code",
   "execution_count": 43,
   "metadata": {},
   "outputs": [
    {
     "name": "stdout",
     "output_type": "stream",
     "text": [
      "Ввести год- 2100\n",
      "Обычный\n"
     ]
    }
   ],
   "source": [
    "y = int(input('Ввести год- '))\n",
    "if y % 4 != 0 or (y % 100 == 0 and y % 400!=0):\n",
    "    print(\"Обычный\")\n",
    "else:\n",
    "    print(\"Високосный\")"
   ]
  },
  {
   "cell_type": "markdown",
   "metadata": {},
   "source": [
    "# Задача 3"
   ]
  },
  {
   "cell_type": "markdown",
   "metadata": {},
   "source": [
    "Необходимо написать программу, которая будет запрашивать у пользователя месяц и дату рождения и выводить соответствующий знак зодиака."
   ]
  },
  {
   "cell_type": "code",
   "execution_count": 3,
   "metadata": {},
   "outputs": [
    {
     "name": "stdout",
     "output_type": "stream",
     "text": [
      "Введите день - 12\n",
      "Введите месц - 12\n",
      "Стрелец\n"
     ]
    }
   ],
   "source": [
    "day = int(input('Введите день - '))\n",
    "month = int(input('Введите месц - '))\n",
    "\n",
    "if (31>=day>=21 and month==3) or (1<=day<=20 and month == 4):\n",
    "    print ('Овен')\n",
    "elif (30>=day>=21 and month==4) or (1<=day<=20 and month == 5):\n",
    "    print ('Телец')\n",
    "elif (31>=day>=21 and month==5) or (1<=day<=20 and month == 6):\n",
    "    print ('Близнецы')\n",
    "elif (30>=day>=21 and month==6) or (1<=day<=22 and month == 7):\n",
    "    print ('Рак')\n",
    "elif (31>=day>=23 and month==7) or (1<=day<=22 and month == 8): \n",
    "    print ('Лев')\n",
    "elif (31>=day>=23 and month==8) or (1<=day<=23 and month == 9):\n",
    "    print ('Дева')\n",
    "elif (30>=day>=24 and month==9) or (1<=day<=23 and month == 10): \n",
    "    print ('Весы')\n",
    "elif (31>=day>=24 and month==10) or (1<=day<=21 and month == 11):\n",
    "    print ('Скорпион')\n",
    "elif (30>=day>=22 and month==11) or (1<=day<=21 and month == 12):\n",
    "    print ('Стрелец')\n",
    "elif (31>=day>=22 and month==12) or (1<=day<=19 and month == 1):\n",
    "    print ('Козерог')\n",
    "elif (31>=day>=22 and month==1) or (1<=day<=18 and month == 2):\n",
    "    print ('Водолей')\n",
    "elif (28>=day>=19 and month==2) or (1<=day<=20 and month == 3):\n",
    "    print ('Рыбы')\n",
    "else:\n",
    "    print('Не получится')"
   ]
  },
  {
   "cell_type": "markdown",
   "metadata": {},
   "source": [
    "# Задача 4"
   ]
  },
  {
   "cell_type": "markdown",
   "metadata": {},
   "source": [
    "Вам нужно написать программу для подбора упаковок по размерам товара. Размеры хранятся в переменных (в сантиметрах):"
   ]
  },
  {
   "cell_type": "markdown",
   "metadata": {},
   "source": [
    "Используйте следующие правила:\n",
    "\n",
    "- если каждое из трех измерений менее 15 сантиметров, то выведите на экран \"Коробка №1\";\n",
    "- если хотя бы одно из измерений больше 15 сантиметров, но менее 50 сантиметров, то выводите \"Коробка №2\";\n",
    "- если длина товара больше 2 метров, то выводите \"Упаковка для лыж\";\n",
    "- во всех остальных случаях выводите \"Стандартная коробка №3\"."
   ]
  },
  {
   "cell_type": "code",
   "execution_count": 29,
   "metadata": {},
   "outputs": [
    {
     "name": "stdout",
     "output_type": "stream",
     "text": [
      "Введите ширину - 0\n",
      "Введите длину - 0\n",
      "Введите высоту - 0\n",
      "Коробка №1\n"
     ]
    }
   ],
   "source": [
    "width!=0\n",
    "\n",
    "width = int(input('Введите ширину - '))\n",
    "length = int(input('Введите длину - '))\n",
    "height = int(input('Введите высоту - '))\n",
    "if width<=15 and length<=15 and height<=15:\n",
    "    print ('Коробка №1')\n",
    "elif (50>=width>=15 and length<=15 and height<=15) or (width<=15 and 50>=length>=15 and height<=15) or (width<=15 and length<=15 and 50>=height>=15):\n",
    "    print ('Коробка №2')\n",
    "elif (length>200):\n",
    "    print ('Упаковка для лыж')\n",
    "else:\n",
    "    print ('Стандартная коробка №3')\n"
   ]
  }
 ],
 "metadata": {
  "kernelspec": {
   "display_name": "Python 3",
   "language": "python",
   "name": "python3"
  },
  "language_info": {
   "codemirror_mode": {
    "name": "ipython",
    "version": 3
   },
   "file_extension": ".py",
   "mimetype": "text/x-python",
   "name": "python",
   "nbconvert_exporter": "python",
   "pygments_lexer": "ipython3",
   "version": "3.8.3"
  }
 },
 "nbformat": 4,
 "nbformat_minor": 4
}

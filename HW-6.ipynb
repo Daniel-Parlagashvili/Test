{
 "cells": [
  {
   "cell_type": "markdown",
   "metadata": {},
   "source": [
    "# Задание 1\n",
    "Печатные газеты использовали свой формат дат для каждого выпуска. Для каждой газеты из списка напишите формат указанной даты для перевода в объект datetime:\n",
    "- The Moscow Times - Wednesday, October 2, 2002\n",
    "- The Guardian - Friday, 11.10.13\n",
    "- Daily News - Thursday, 18 August 1977"
   ]
  },
  {
   "cell_type": "code",
   "execution_count": 1,
   "metadata": {},
   "outputs": [],
   "source": [
    "from datetime import datetime\n",
    "from datetime import timedelta\n",
    "\n",
    "# The Moscow Times - Wednesday, October 2, 2002\n",
    "# The Guardian - Friday, 11.10.13\n",
    "# Daily News - Thursday, 18 August 1977"
   ]
  },
  {
   "cell_type": "code",
   "execution_count": 2,
   "metadata": {},
   "outputs": [
    {
     "name": "stdout",
     "output_type": "stream",
     "text": [
      "2002-10-02 00:00:00\n",
      "2013-10-11 00:00:00\n",
      "1977-08-18 00:00:00\n"
     ]
    },
    {
     "data": {
      "text/plain": [
       "'Thursday'"
      ]
     },
     "execution_count": 2,
     "metadata": {},
     "output_type": "execute_result"
    }
   ],
   "source": [
    "tmt = datetime.strptime('Wednesday, October 2, 2002','%A, %B %d, %Y')\n",
    "tguard = datetime.strptime('Friday, 11.10.13', '%A, %d.%m.%y')\n",
    "dn = datetime.strptime('Thursday, 18 August 1977','%A, %d %B %Y')\n",
    "print(tmt)\n",
    "print(tguard)\n",
    "print(dn)\n",
    "\n",
    "dn.strftime('%A')"
   ]
  },
  {
   "cell_type": "markdown",
   "metadata": {},
   "source": [
    "# Задание 2\n",
    "Дан поток дат в формате YYYY-MM-DD, в которых встречаются некорректные значения:\n",
    "stream = [‘2018-04-02’, ‘2018-02-29’, ‘2018-19-02’]\n",
    "\n",
    "Напишите функцию, которая проверяет эти даты на корректность. Т. е. для каждой даты возвращает True (дата корректна) или False (некорректная дата)."
   ]
  },
  {
   "cell_type": "code",
   "execution_count": 3,
   "metadata": {},
   "outputs": [],
   "source": [
    "a = [1,2,3,4,'5',6,7,8,9]"
   ]
  },
  {
   "cell_type": "code",
   "execution_count": 4,
   "metadata": {},
   "outputs": [
    {
     "name": "stdout",
     "output_type": "stream",
     "text": [
      "2018-04-02  is True\n",
      "2018-02-29  is False\n",
      "2018-19-02  is False\n"
     ]
    }
   ],
   "source": [
    "stream = ['2018-04-02', '2018-02-29', '2018-19-02']\n",
    "for i in stream:\n",
    "    try:\n",
    "        datetime.strptime(i,'%Y-%m-%d')\n",
    "        print(i,' is True')\n",
    "    except:\n",
    "        print(i,' is False')"
   ]
  },
  {
   "cell_type": "markdown",
   "metadata": {},
   "source": [
    "# Задание 3\n",
    "Напишите функцию date_range, которая возвращает список дат за период от start_date до end_date. Даты должны вводиться в формате YYYY-MM-DD. В случае неверного формата или при start_date > end_date должен возвращаться пустой список.\n",
    "\n"
   ]
  },
  {
   "cell_type": "code",
   "execution_count": 2,
   "metadata": {},
   "outputs": [],
   "source": [
    "# a = []\n",
    "# date_list = []\n",
    "# def date_range(start_date,end_date):\n",
    "#     try : \n",
    "#         start_date_dt = datetime.strptime(start_date, '%Y-%m-%d')\n",
    "#         end_date_dt = datetime.strptime(end_date, '%Y-%m-%d')\n",
    "\n",
    "#         while start_date_dt <= end_date_dt:   \n",
    "            \n",
    "#             date_list.append(start_date_dt.strftime('%Y-%m-%d'))\n",
    "#             print(start_date_dt.strftime('%Y-%m-%d'))\n",
    "#             start_date_dt += timedelta(days=1)\n",
    "            \n",
    "           \n",
    "#     except:\n",
    "#         print(a)"
   ]
  },
  {
   "cell_type": "code",
   "execution_count": 6,
   "metadata": {},
   "outputs": [],
   "source": [
    "a = []\n",
    "def date_range(start_date,end_date):\n",
    "    try : \n",
    "        start_date_dt = datetime.strptime(start_date, '%Y-%m-%d')\n",
    "        end_date_dt = datetime.strptime(end_date, '%Y-%m-%d')\n",
    "\n",
    "        if start_date_dt <= end_date_dt:\n",
    "            while start_date_dt <= end_date_dt:   \n",
    "        \n",
    "                print(start_date_dt.strftime('%Y-%m-%d'))\n",
    "                start_date_dt += timedelta(days=1)\n",
    "        else:\n",
    "            print(a)\n",
    "    except:\n",
    "        print(a)"
   ]
  },
  {
   "cell_type": "code",
   "execution_count": 15,
   "metadata": {},
   "outputs": [
    {
     "name": "stdout",
     "output_type": "stream",
     "text": [
      "2020-10-27\n",
      "2020-10-28\n",
      "2020-10-29\n",
      "2020-10-30\n",
      "2020-10-31\n",
      "2020-11-01\n"
     ]
    }
   ],
   "source": [
    "date_range('2020-10-27','2020-11-01')"
   ]
  },
  {
   "cell_type": "code",
   "execution_count": 16,
   "metadata": {},
   "outputs": [
    {
     "name": "stdout",
     "output_type": "stream",
     "text": [
      "[]\n"
     ]
    }
   ],
   "source": [
    "date_range('2020-10-27','2020-10-01')"
   ]
  },
  {
   "cell_type": "code",
   "execution_count": 18,
   "metadata": {},
   "outputs": [
    {
     "name": "stdout",
     "output_type": "stream",
     "text": [
      "[]\n"
     ]
    }
   ],
   "source": [
    "date_range('2020-10-27','2020-11-0f')"
   ]
  }
 ],
 "metadata": {
  "kernelspec": {
   "display_name": "Python 3",
   "language": "python",
   "name": "python3"
  },
  "language_info": {
   "codemirror_mode": {
    "name": "ipython",
    "version": 3
   },
   "file_extension": ".py",
   "mimetype": "text/x-python",
   "name": "python",
   "nbconvert_exporter": "python",
   "pygments_lexer": "ipython3",
   "version": "3.8.3"
  }
 },
 "nbformat": 4,
 "nbformat_minor": 4
}

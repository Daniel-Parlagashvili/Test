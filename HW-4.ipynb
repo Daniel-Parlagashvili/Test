{
 "cells": [
  {
   "cell_type": "markdown",
   "metadata": {},
   "source": [
    "#### 1. перечень всех документов"
   ]
  },
  {
   "cell_type": "code",
   "execution_count": 2,
   "metadata": {},
   "outputs": [],
   "source": [
    "documents = [\n",
    "{'type': 'passport', 'number': '2207 876234', 'name': 'Василий Гупкин'},\n",
    "{'type': 'invoice', 'number': '11-2', 'name': 'Геннадий Покемонов'},\n",
    "{'type': 'insurance', 'number': '10006', 'name': 'Аристарх Павлов'}\n",
    "]\n"
   ]
  },
  {
   "cell_type": "markdown",
   "metadata": {},
   "source": [
    "#### 2. перечень полок, на которых хранятся документы (если документ есть в documents, то он обязательно должен быть и в directories)\n"
   ]
  },
  {
   "cell_type": "code",
   "execution_count": 3,
   "metadata": {},
   "outputs": [],
   "source": [
    "directories = {\n",
    "'1': ['2207 876234', '11-2'],\n",
    "'2': ['10006'],\n",
    "'3': []\n",
    "}"
   ]
  },
  {
   "cell_type": "markdown",
   "metadata": {},
   "source": [
    "Общие требования к программе:\n",
    "\n",
    "- код должен быть грамотно декомпозирован (каждая функция отвечает за свою конкретную задачу, дублирующийся функционал переиспользуется, а его код не повторяется);\n",
    "- в коде отсутствуют глобальные переменные (за исключением documents и directories);\n",
    "- пользовательский ввод обрабатывается в цикле while до тех пор, пока пользователь явно не завершит программу (вводом команды “q”)."
   ]
  },
  {
   "cell_type": "markdown",
   "metadata": {},
   "source": [
    "## Задание 1\n",
    "Пункт 1. Пользователь по команде “p” может узнать владельца документа по его номеру\n",
    "Примеры работы:\n",
    "\n",
    "Введите команду:\n",
    "p\n",
    "\n",
    "Введите номер документа:\n",
    "10006\n",
    "\n",
    "Результат:\n",
    "Владелец документа: Аристарх Павлов\n",
    "\n",
    "Введите команду:\n",
    "p\n",
    "\n",
    "Введите номер документа:\n",
    "12345\n",
    "\n",
    "Результат:\n",
    "Документ не найден в базе\n",
    "\n"
   ]
  },
  {
   "cell_type": "code",
   "execution_count": 6,
   "metadata": {},
   "outputs": [
    {
     "name": "stdout",
     "output_type": "stream",
     "text": [
      "Введите номер документа: d\n",
      "Not Found\n"
     ]
    }
   ],
   "source": [
    "def punkt_1(spisok_imen = documents):\n",
    "    name = ''\n",
    "    nomer_v_spiske = str(input('Введите номер документа: '))\n",
    "    for line_1 in spisok_imen:\n",
    "            if nomer_v_spiske in line_1.values():\n",
    "                name = line_1['name']\n",
    "            else:\n",
    "                 name is None\n",
    "\n",
    "    if len(name) == 0:\n",
    "        print('Not Found')\n",
    "    \n",
    "    else:\n",
    "        print(name)\n",
    "\n",
    "                \n",
    "punkt_1()"
   ]
  },
  {
   "cell_type": "markdown",
   "metadata": {},
   "source": [
    "## Пункт 2. \n",
    "Пользователь по команде “s” может по номеру документа узнать на какой полке он хранится\n",
    "Примеры работы:\n",
    "\n",
    "Введите команду:\n",
    "s\n",
    "\n",
    "Введите номер документа:\n",
    "10006\n",
    "\n",
    "Результат:\n",
    "Документ хранится на полке: 2"
   ]
  },
  {
   "cell_type": "code",
   "execution_count": 7,
   "metadata": {},
   "outputs": [
    {
     "name": "stdout",
     "output_type": "stream",
     "text": [
      "Введите номер документа: d\n",
      "Данного документа нет\n"
     ]
    }
   ],
   "source": [
    "\n",
    "def punkt_2(spisok_imen2 = directories):\n",
    "    polka = ''\n",
    "    nomer_documenta = str(input('Введите номер документа: '))\n",
    "    for k,v in spisok_imen2.items():\n",
    "        \n",
    "        if nomer_documenta in v:\n",
    "            polka = k\n",
    "        \n",
    "        else:\n",
    "            polka is None\n",
    "         \n",
    "    if len(polka) == 0:\n",
    "        print('Данного документа нет')\n",
    "    \n",
    "    else:\n",
    "        print('Документ хранится на полке:',k)\n",
    "        \n",
    "            \n",
    "punkt_2()"
   ]
  },
  {
   "cell_type": "markdown",
   "metadata": {},
   "source": [
    "### Пункт 3. \n",
    "Пользователь по команде “l (эл)” может увидеть полную информацию по всем документам\n",
    "- №: 2207 876234, тип: passport, владелец: Василий Гупкин, полка хранения: 1\n",
    "- №: 11-2, тип: invoice, владелец: Геннадий Покемонов, полка хранения: 1\n",
    "- №: 10006, тип: insurance, владелец: Аристарх Павлов, полка хранения: 2\n",
    "-Объединяем в каталог"
   ]
  },
  {
   "cell_type": "code",
   "execution_count": 13,
   "metadata": {},
   "outputs": [
    {
     "name": "stdout",
     "output_type": "stream",
     "text": [
      "2207 876234\n",
      "№ 2207 876234 тип passport владелец - Василий Гупкин полка хранения -  1\n",
      "11-2\n",
      "№ 11-2 тип invoice владелец - Геннадий Покемонов полка хранения -  1\n",
      "10006\n",
      "№ 10006 тип insurance владелец - Аристарх Павлов полка хранения -  2\n"
     ]
    }
   ],
   "source": [
    "\n",
    "def punkt_3():\n",
    "    for num_in_doc in documents:\n",
    "        number = (((num_in_doc['number'])))\n",
    "        print(number)\n",
    "        for key, val in directories.items():\n",
    "            if number in val:\n",
    "#         №: 2207 876234, тип: passport, владелец: Василий Гупкин, полка хранения: 1\n",
    "                print('№',number,'тип',num_in_doc['type'],'владелец -',num_in_doc['name'],'полка хранения - ', key)\n",
    "punkt_3()"
   ]
  },
  {
   "cell_type": "code",
   "execution_count": null,
   "metadata": {},
   "outputs": [],
   "source": []
  },
  {
   "cell_type": "markdown",
   "metadata": {},
   "source": [
    "## Пункт 4. \n",
    "Пользователь по команде “as” может добавить новую полку\n",
    "Примеры работы:\n",
    "\n",
    "Введите команду:\n",
    "as\n",
    "\n",
    "Введите номер полки:\n",
    "10\n",
    "\n",
    "Результат:\n",
    "Полка добавлена. Текущий перечень полок: 1, 2, 3, 10"
   ]
  },
  {
   "cell_type": "code",
   "execution_count": 14,
   "metadata": {},
   "outputs": [
    {
     "name": "stdout",
     "output_type": "stream",
     "text": [
      "Введите номер полки: 4\n",
      "Текущий перечень полок:  ['1', '2', '3', '4']\n"
     ]
    }
   ],
   "source": [
    "def punkt_4():\n",
    "    add_direct = input('Введите номер полки: ')\n",
    "    if add_direct not in directories.keys():\n",
    "        directories[add_direct] = []\n",
    "    else:\n",
    "        return('Эта полка уже есть')\n",
    "    print('Текущий перечень полок: ',list(directories.keys()))\n",
    "punkt_4()\n"
   ]
  },
  {
   "cell_type": "markdown",
   "metadata": {},
   "source": [
    "## Пункт 5. \n",
    "Пользователь по команде “ds” может удалить существующую полку из данных (только если она пустая)\n",
    "Примеры работы:\n",
    "\n",
    "#### Введите команду:\n",
    "ds\n",
    "\n",
    "Введите номер полки:\n",
    "3\n",
    "Результат:\n",
    "Полка удалена. Текущий перечень полок: 1, 2.\n",
    "\n",
    "##### Введите команду:\n",
    "ds\n",
    "\n",
    "Введите номер полки:\n",
    "1\n",
    "Результат:\n",
    "На полке есть документа, удалите их перед удалением полки. Текущий перечень полок: 1, 2, 3.\n",
    "\n",
    "##### Введите команду:\n",
    "ds\n",
    "\n",
    "Введите номер полки:\n",
    "4\n",
    "Результат:\n",
    "Такой полки не существует. Текущий перечень полок: 1, 2, 3.\n",
    "\n"
   ]
  },
  {
   "cell_type": "code",
   "execution_count": 15,
   "metadata": {},
   "outputs": [
    {
     "name": "stdout",
     "output_type": "stream",
     "text": [
      "Введите номер удаляемой полки: 4\n",
      "Такой полки не существует\n",
      "Такой полки не существует\n",
      "Такой полки не существует\n",
      "Полка удалена.\n",
      "Текущий перечень полок ['1', '2', '3']\n"
     ]
    }
   ],
   "source": [
    "def punkt_5():\n",
    "    delit_direct = input('Введите номер удаляемой полки: ')\n",
    "    for line in list(directories.items()):\n",
    "        if (delit_direct in line[0]) and (len(line[1]) == 0):\n",
    "            del(directories[line[0]])\n",
    "            print('Полка удалена.')\n",
    "        elif (delit_direct in line[0]) and (len(line[1]) != 0):\n",
    "            print('На полке есть документа, удалите их перед удалением полки.')\n",
    "        else:\n",
    "            print('Такой полки не существует')\n",
    "    print('Текущий перечень полок', list(directories))\n",
    "punkt_5()"
   ]
  },
  {
   "cell_type": "markdown",
   "metadata": {},
   "source": [
    "### Решение"
   ]
  },
  {
   "cell_type": "code",
   "execution_count": 16,
   "metadata": {},
   "outputs": [],
   "source": [
    "\n",
    "def main():\n",
    "    while True:\n",
    "        user_input = input('Введите команду: ')\n",
    "        if user_input == 'p':\n",
    "            punkt_1()\n",
    "        elif user_input == 's':\n",
    "            punkt_2()\n",
    "        elif user_input == 'l':\n",
    "            punkt_3()\n",
    "        elif user_input == 'as':\n",
    "            punkt_4() \n",
    "        elif user_input == 'ds':\n",
    "            punkt_5() \n",
    "        elif user_input == 'q':\n",
    "            print('Работа завершена')\n",
    "            break\n",
    "        else:\n",
    "            print('Команда не распознана. Повторите ввод.')\n",
    "            "
   ]
  },
  {
   "cell_type": "code",
   "execution_count": null,
   "metadata": {},
   "outputs": [
    {
     "name": "stdout",
     "output_type": "stream",
     "text": [
      "Введите команду: s\n",
      "Введите номер документа: 11-2\n",
      "Документ хранится на полке: 1\n",
      "Данного документа нет\n",
      "Данного документа нет\n"
     ]
    }
   ],
   "source": [
    "main()"
   ]
  },
  {
   "cell_type": "code",
   "execution_count": null,
   "metadata": {},
   "outputs": [],
   "source": []
  },
  {
   "cell_type": "code",
   "execution_count": null,
   "metadata": {},
   "outputs": [],
   "source": []
  },
  {
   "cell_type": "code",
   "execution_count": null,
   "metadata": {},
   "outputs": [],
   "source": []
  },
  {
   "cell_type": "code",
   "execution_count": null,
   "metadata": {},
   "outputs": [],
   "source": [
    "a = [1,2,4,6]\n",
    "b = [1,3,5,7,2,4]\n",
    "for x in a:\n",
    "    if x in b:\n",
    "        print(b.index(x))"
   ]
  },
  {
   "cell_type": "code",
   "execution_count": null,
   "metadata": {},
   "outputs": [],
   "source": [
    "a = [[1,2],[3,4],[5,6],[7,8]]\n",
    "for element in a:\n",
    "    print(element)\n",
    "    "
   ]
  },
  {
   "cell_type": "code",
   "execution_count": null,
   "metadata": {},
   "outputs": [],
   "source": [
    "# Сейчас в качкестве переменной для функции квадрата выступает значение из списка\n",
    "for element in a:\n",
    "    print(square(element[0]))"
   ]
  },
  {
   "cell_type": "code",
   "execution_count": null,
   "metadata": {},
   "outputs": [],
   "source": [
    "# Знаение пременной внутри функции - это просто обозначение. При подстановке его в список или при задании числа оно \n",
    "# автоматически меняет значение на то, что мы задали\n",
    "def square(number):\n",
    "    result = number ** 2\n",
    "    return result"
   ]
  }
 ],
 "metadata": {
  "kernelspec": {
   "display_name": "Python 3",
   "language": "python",
   "name": "python3"
  },
  "language_info": {
   "codemirror_mode": {
    "name": "ipython",
    "version": 3
   },
   "file_extension": ".py",
   "mimetype": "text/x-python",
   "name": "python",
   "nbconvert_exporter": "python",
   "pygments_lexer": "ipython3",
   "version": "3.8.3"
  }
 },
 "nbformat": 4,
 "nbformat_minor": 4
}
